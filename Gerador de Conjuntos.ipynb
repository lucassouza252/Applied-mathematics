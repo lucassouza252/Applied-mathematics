{
 "cells": [
  {
   "cell_type": "code",
   "execution_count": 1,
   "metadata": {},
   "outputs": [],
   "source": [
    "import numpy as np"
   ]
  },
  {
   "cell_type": "markdown",
   "metadata": {},
   "source": [
    "#### Objetivo\n",
    "<p>Recebe um vetor de dados, e retorna os possíveis subconjuntos pertencentes a este vetor.</p>"
   ]
  },
  {
   "cell_type": "markdown",
   "metadata": {},
   "source": [
    "#### Entrada:\n",
    "$[0, 1, 2]$\n",
    "\n",
    "#### Saida:\n",
    "$\\{[0], [1], [2], [0, 1], [0, 2], [1, 2], [0, 1, 2]\\}$\n",
    "\n",
    "#### Definição:\n",
    "<p>O conjunto de saída deverá conter $2^n -1$ elementos, pois o conjunto vazio deve ser eliminado.</p>"
   ]
  },
  {
   "cell_type": "markdown",
   "metadata": {},
   "source": [
    "Explicação do algoritmo no site:\n",
    "https://www.geeksforgeeks.org/finding-all-subsets-of-a-given-set-in-java/"
   ]
  },
  {
   "cell_type": "code",
   "execution_count": 2,
   "metadata": {},
   "outputs": [],
   "source": [
    "vetor = np.array([0, 1, 2, 3, 4, 5, 6, 7, 8, 9])"
   ]
  },
  {
   "cell_type": "code",
   "execution_count": 3,
   "metadata": {},
   "outputs": [],
   "source": [
    "def subset(vet):\n",
    "    n = len(vet)\n",
    "    conj = []\n",
    "    for i in range(0, 1<<n):\n",
    "        x = []\n",
    "        for j in range(0, n):\n",
    "            if (i & (1 << j)) > 0:\n",
    "                x.append(vet[j])\n",
    "        conj.append(x)\n",
    "    \n",
    "    conj.remove([])\n",
    "    return conj"
   ]
  },
  {
   "cell_type": "code",
   "execution_count": 4,
   "metadata": {},
   "outputs": [
    {
     "data": {
      "text/plain": [
       "1023"
      ]
     },
     "execution_count": 4,
     "metadata": {},
     "output_type": "execute_result"
    }
   ],
   "source": [
    "len(subset(vetor))"
   ]
  }
 ],
 "metadata": {
  "@webio": {
   "lastCommId": "7bbba9f2e471475796aefbd248aaf247",
   "lastKernelId": "398e3fcb-77f6-4376-8ee4-0aabe54f3f58"
  },
  "kernelspec": {
   "display_name": "Python 3",
   "language": "python",
   "name": "python3"
  },
  "language_info": {
   "codemirror_mode": {
    "name": "ipython",
    "version": 3
   },
   "file_extension": ".py",
   "mimetype": "text/x-python",
   "name": "python",
   "nbconvert_exporter": "python",
   "pygments_lexer": "ipython3",
   "version": "3.6.5"
  }
 },
 "nbformat": 4,
 "nbformat_minor": 2
}
