{
 "cells": [
  {
   "cell_type": "code",
   "execution_count": 1,
   "metadata": {},
   "outputs": [],
   "source": [
    "import numpy as np\n",
    "import pandas as pd"
   ]
  },
  {
   "cell_type": "code",
   "execution_count": 2,
   "metadata": {},
   "outputs": [],
   "source": [
    "# Cria uma matriz vazia, porem preenchida com zeros kkkk\n",
    "# So utilizado desta forma pois numpy não deixa preencher matriz com vetores de tamanho diferentes\n",
    "def matriz_vazia(n):\n",
    "    a = []\n",
    "    for i in range(n):\n",
    "        a.append([])\n",
    "        for j in range(n):\n",
    "            a[i].append(0)\n",
    "    return a"
   ]
  },
  {
   "cell_type": "code",
   "execution_count": 80,
   "metadata": {},
   "outputs": [],
   "source": [
    "# MUDANÇA, PASSADO A TRABALHAR COM CONJUNTOS\n",
    "# Gera os possiveis subconjuntos de um dado vetor\n",
    "def subset(vet):\n",
    "    n = len(vet)\n",
    "    conj = []\n",
    "    for i in range(0, 1<<n):\n",
    "        x = set()\n",
    "        for j in range(0, n):\n",
    "            if (i & (1 << j)) > 0:\n",
    "                z = set([vet[j]])\n",
    "                x = x | z\n",
    "               \n",
    "        conj.append(x)\n",
    "    \n",
    "    conj.remove(set())\n",
    "    return conj"
   ]
  },
  {
   "cell_type": "code",
   "execution_count": 4,
   "metadata": {},
   "outputs": [],
   "source": [
    "# Gera celuas para uma matriz de forma simetrica\n",
    "def gera_celula(a, b, T, conj):\n",
    "    n = np.shape(T)[0]\n",
    "    if T[a][b] == 0:\n",
    "        r = np.random.randint(1, pow(2, n) -1)\n",
    "        T[a][b] = conj[r]\n",
    "        T[b][a] = conj[r]\n",
    "        return conj[r]\n",
    "    else:\n",
    "        return T[a][b]"
   ]
  },
  {
   "cell_type": "code",
   "execution_count": 5,
   "metadata": {},
   "outputs": [],
   "source": [
    "# Preenche a tabela\n",
    "def preenche_tabela(table, n, conj):\n",
    "    sub_set = subset(conj)\n",
    "    for i in range(n):\n",
    "        for j in range(n):\n",
    "            table[i][j] = gera_celula(i, j, table, sub_set)\n",
    "    return table"
   ]
  },
  {
   "cell_type": "code",
   "execution_count": 6,
   "metadata": {},
   "outputs": [],
   "source": [
    "# Verifica se a matriz é simetrica\n",
    "def simetrica(mat):\n",
    "    n = np.shape(mat)[0]\n",
    "\n",
    "    for i in range(n):\n",
    "        for j in range(n):\n",
    "            if not mat[i][j] == mat[j][i]:\n",
    "                return False\n",
    "\n",
    "    return True"
   ]
  },
  {
   "cell_type": "code",
   "execution_count": 21,
   "metadata": {},
   "outputs": [],
   "source": [
    "# Constroi a tabela de acordo com as regras e verifica se é simetrica.\n",
    "def construir_tabela(n):\n",
    "    table = matriz_vazia(n)\n",
    "    conj = np.random.randint(1, n, n)\n",
    "    table = preenche_tabela(table, n, conj)\n",
    "    if not simetrica(table):\n",
    "        table = preencher_tabela(table, n, conj)\n",
    "    \n",
    "    for i in range(n):\n",
    "        table[i][0] = conj[i]\n",
    "    \n",
    "    table[0] = conj\n",
    "    \n",
    "    return table"
   ]
  },
  {
   "cell_type": "code",
   "execution_count": null,
   "metadata": {},
   "outputs": [],
   "source": [
    "# Virificação a tres de assossiatividade\n",
    "def verificacao_a_tres(table, n):\n",
    "    for i in range(n):\n",
    "        for j in range(n):\n",
    "            if "
   ]
  },
  {
   "cell_type": "code",
   "execution_count": 81,
   "metadata": {
    "scrolled": true
   },
   "outputs": [
    {
     "data": {
      "text/html": [
       "<div>\n",
       "<style scoped>\n",
       "    .dataframe tbody tr th:only-of-type {\n",
       "        vertical-align: middle;\n",
       "    }\n",
       "\n",
       "    .dataframe tbody tr th {\n",
       "        vertical-align: top;\n",
       "    }\n",
       "\n",
       "    .dataframe thead th {\n",
       "        text-align: right;\n",
       "    }\n",
       "</style>\n",
       "<table border=\"1\" class=\"dataframe\">\n",
       "  <thead>\n",
       "    <tr style=\"text-align: right;\">\n",
       "      <th></th>\n",
       "      <th>0</th>\n",
       "      <th>1</th>\n",
       "      <th>2</th>\n",
       "      <th>3</th>\n",
       "      <th>4</th>\n",
       "    </tr>\n",
       "  </thead>\n",
       "  <tbody>\n",
       "    <tr>\n",
       "      <th>0</th>\n",
       "      <td>4</td>\n",
       "      <td>3</td>\n",
       "      <td>1</td>\n",
       "      <td>3</td>\n",
       "      <td>2</td>\n",
       "    </tr>\n",
       "    <tr>\n",
       "      <th>1</th>\n",
       "      <td>3</td>\n",
       "      <td>{3, 4}</td>\n",
       "      <td>{1, 2, 3}</td>\n",
       "      <td>{1, 2}</td>\n",
       "      <td>{1, 3, 4}</td>\n",
       "    </tr>\n",
       "    <tr>\n",
       "      <th>2</th>\n",
       "      <td>1</td>\n",
       "      <td>{1, 2, 3}</td>\n",
       "      <td>{2}</td>\n",
       "      <td>{1, 2, 3, 4}</td>\n",
       "      <td>{1, 2, 3, 4}</td>\n",
       "    </tr>\n",
       "    <tr>\n",
       "      <th>3</th>\n",
       "      <td>3</td>\n",
       "      <td>{1, 2}</td>\n",
       "      <td>{1, 2, 3, 4}</td>\n",
       "      <td>{2, 3, 4}</td>\n",
       "      <td>{1, 3}</td>\n",
       "    </tr>\n",
       "    <tr>\n",
       "      <th>4</th>\n",
       "      <td>2</td>\n",
       "      <td>{1, 3, 4}</td>\n",
       "      <td>{1, 2, 3, 4}</td>\n",
       "      <td>{1, 3}</td>\n",
       "      <td>{1, 2, 3}</td>\n",
       "    </tr>\n",
       "  </tbody>\n",
       "</table>\n",
       "</div>"
      ],
      "text/plain": [
       "   0          1             2             3             4\n",
       "0  4          3             1             3             2\n",
       "1  3     {3, 4}     {1, 2, 3}        {1, 2}     {1, 3, 4}\n",
       "2  1  {1, 2, 3}           {2}  {1, 2, 3, 4}  {1, 2, 3, 4}\n",
       "3  3     {1, 2}  {1, 2, 3, 4}     {2, 3, 4}        {1, 3}\n",
       "4  2  {1, 3, 4}  {1, 2, 3, 4}        {1, 3}     {1, 2, 3}"
      ]
     },
     "execution_count": 81,
     "metadata": {},
     "output_type": "execute_result"
    }
   ],
   "source": [
    "table = construir_tabela(5)\n",
    "tabela = pd.DataFrame(table)\n",
    "tabela"
   ]
  },
  {
   "cell_type": "code",
   "execution_count": 192,
   "metadata": {},
   "outputs": [],
   "source": [
    "# Algoritmo de Yuri, ainda não utilizado.\n",
    "salvo = []\n",
    "def inverso_aditivo(B, g, T):\n",
    "    n  = np.shape(T)[0]\n",
    "    v = np.zeros(n)\n",
    "    \n",
    "    for i in range(1, n):\n",
    "        if T[g, i] == B:\n",
    "            return i\n",
    "        else:\n",
    "            v[i] = 1\n",
    "    \n",
    "    for i in range(1, n):\n",
    "        if v[i] == 0:\n",
    "            T[g, i] = B\n",
    "            T[i, g] = B\n",
    "            return i\n",
    "    \n",
    "    if all(x == 0 for x in v):\n",
    "        for i in v:\n",
    "            if i != 0:\n",
    "                salvo.append(i)    "
   ]
  },
  {
   "cell_type": "code",
   "execution_count": null,
   "metadata": {},
   "outputs": [],
   "source": [
    "# Algoritimo de Yuri em construção\n",
    "def gera_tabela(n):\n",
    "    table = np.zeros((n, n))\n",
    "    \n",
    "    G = []\n",
    "    for x in range(1, 5+1):\n",
    "        g.append(pow(2, x))\n",
    "        \n",
    "    for i in range(pow(2, n)):\n",
    "        table[i, 1] = i\n",
    "        table[1, i] = i\n",
    "            "
   ]
  }
 ],
 "metadata": {
  "@webio": {
   "lastCommId": "f1abca05ac324f13928c4837564d98ac",
   "lastKernelId": "195e8e1f-1b2a-4264-9bc8-bb5c5597076c"
  },
  "kernelspec": {
   "display_name": "Python 3",
   "language": "python",
   "name": "python3"
  },
  "language_info": {
   "codemirror_mode": {
    "name": "ipython",
    "version": 3
   },
   "file_extension": ".py",
   "mimetype": "text/x-python",
   "name": "python",
   "nbconvert_exporter": "python",
   "pygments_lexer": "ipython3",
   "version": "3.6.5"
  }
 },
 "nbformat": 4,
 "nbformat_minor": 2
}
