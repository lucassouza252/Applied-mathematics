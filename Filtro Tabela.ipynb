{
 "cells": [
  {
   "cell_type": "code",
   "execution_count": 1,
   "metadata": {},
   "outputs": [],
   "source": [
    "import numpy as np\n",
    "from scipy.optimize import linprog"
   ]
  },
  {
   "cell_type": "code",
   "execution_count": 2,
   "metadata": {},
   "outputs": [],
   "source": [
    "def data_generator(r, l, e, tam=1000, rho=False):\n",
    "    '''\n",
    "        Entrada:\n",
    "            r, l, e: Numeros Naturais maiores que zero\n",
    "            tam : Valor maximo de cada elemento, padrao: 1000.\n",
    "            rho : Flag para retornar apenas uma matriz l x r\n",
    "        Saida:\n",
    "            vetor: tamanho r, matriz: ordem l x r, matriz: ordem e x r\n",
    "        Erro:\n",
    "            tupla: None, print do erro.\n",
    "    '''\n",
    "    less_than = l <= (r - 1) and e <= (r - 1)\n",
    "    greather_than_zero = l > 0 and e > 0 and r > 0\n",
    "\n",
    "    if not (less_than and greather_than_zero):\n",
    "        print(\"Data Generator Error: Bad Entry.\")\n",
    "        return (None, None, None)\n",
    "    else:\n",
    "        if rho:\n",
    "            matriz_lr = np.random.randint(0, tam + 1, size=(l, r))\n",
    "            return (matriz_lr)\n",
    "        else:\n",
    "            vector = np.random.randint(0, tam + 1, size=r)\n",
    "            matriz_lr = np.random.randint(0, tam + 1, size=(l, r))\n",
    "            matriz_er = np.random.randint(0, tam + 1, size=(e, r))\n",
    "\n",
    "        return (vector, matriz_lr, matriz_er)\n",
    "\n",
    "# ---------------------------------------------------------------------------------------------------\n",
    "\n",
    "def generator_conditional(r, l, e, tam=1000):\n",
    "    \"\"\"\n",
    "        Entradas:\n",
    "            r, l, e: Numeros naturais maiores que zero\n",
    "            tam = tamanho maximo para numero aleatorio\n",
    "            t = variação maxima do gerador do conjunto Q\n",
    "        Saidas:\n",
    "            c: Vetor de tamanho r\n",
    "            rho: Matriz de ordem l x r\n",
    "            pi: Matriz de ordem e x r\n",
    "            rho_r: vetor de tamanho l\n",
    "            pi_r: vetor de tamanho e\n",
    "            Q: Conjunto de tamanho r + 1 tal que U0 = Ur\n",
    "    \"\"\"\n",
    "\n",
    "    c, rho, pi = data_generator(r, l, e, tam=tam)\n",
    "\n",
    "    # Ultima coluna das matrizes Rho e Pi respectivamente\n",
    "    rho_r = rho[:, -1:]\n",
    "    pi_r = pi[:, -1:]\n",
    "\n",
    "    return (c, rho, pi, rho_r, pi_r)"
   ]
  },
  {
   "cell_type": "code",
   "execution_count": 3,
   "metadata": {},
   "outputs": [],
   "source": [
    "def to_list(vet):\n",
    "    lista = []\n",
    "    for x in vet:\n",
    "        lista.append(x[0])\n",
    "\n",
    "    return np.array(lista)"
   ]
  },
  {
   "cell_type": "code",
   "execution_count": 4,
   "metadata": {},
   "outputs": [],
   "source": [
    "def cria_tabela(r, c, rho, pi, rho_r, pi_r):\n",
    "    ident = np.eye(r)\n",
    "    zeros = np.zeros(r)\n",
    "    \n",
    "    # Concatena as função objetivo\n",
    "    # Concatena as restriçoes\n",
    "    # Adiciona as variaveis de folga\n",
    "    # Adiciona zeros a funcao objetivo\n",
    "    # Multiplica funcao objetivo por -1 para ficar todos negativos\n",
    "    # Adiciona um zero ao c\n",
    "    # Modifica o shape do c para (r+1, 1)\n",
    "    funcao_objetivo = np.concatenate((rho_r, pi_r))\n",
    "    restricao = np.concatenate((rho.T, pi.T), axis=1)\n",
    "    funcao_objetivo = to_list(funcao_objetivo)\n",
    "    restricao_expandida = np.concatenate((restricao, ident), axis = 1)\n",
    "    funcao_objetivo = np.concatenate((funcao_objetivo, zeros))\n",
    "    funcao_objetivo = np.dot(-1, funcao_objetivo)\n",
    "    c = np.concatenate(([0], c))\n",
    "    c = np.array([c]).T\n",
    "    \n",
    "    # Concatenação Geral\n",
    "    horizontal = np.concatenate(([funcao_objetivo], restricao_expandida))\n",
    "    vertical = np.concatenate((horizontal, c), axis=1)\n",
    "    \n",
    "    # Retorna uma tabela\n",
    "    return vertical"
   ]
  },
  {
   "cell_type": "code",
   "execution_count": 5,
   "metadata": {},
   "outputs": [],
   "source": [
    "def filtro(tabela):\n",
    "    # Pega o minimo da primeira linha\n",
    "    menor = np.min(tabela[0])\n",
    "    # Indice do minimo da primeira linha\n",
    "    indice = np.where(tabela[0] == menor)[0][0]\n",
    "    # Pega a coluna pertencente ao minimo\n",
    "    colum = tabela[:, indice:indice+1]\n",
    "    # Pega a ultima coluna da tabela\n",
    "    ult_colum = tabela[:, -1:]\n",
    "    \n",
    "    # Iteraçao para realizar as divisões da ultima coluna pela coluna de indice do menor\n",
    "    divisao = []\n",
    "    n = colum.size\n",
    "    i = 0\n",
    "    while i < n:\n",
    "        divisao.append(ult_colum[i]/colum[i])\n",
    "        i+=1\n",
    "    \n",
    "    # Minimo valor das divisoes\n",
    "    minimo = np.min(divisao)\n",
    "    \n",
    "    # Divisão do valor i da ultima coluna pelo i da coluna do indice menor\n",
    "    valor_de_verificacao = ult_colum[-1]/colum[-1]\n",
    "    \n",
    "    if minimo == valor_de_verificacao:\n",
    "        return True\n",
    "    else:\n",
    "        return False"
   ]
  },
  {
   "cell_type": "code",
   "execution_count": 122,
   "metadata": {},
   "outputs": [],
   "source": [
    "def aplica_filtro(r):\n",
    "    c, rho, pi, rho_r, pi_r = generator_conditional(r, r-1, r-1)\n",
    "    tabela = cria_tabela(r, c, rho, pi, rho_r, pi_r)\n",
    "    verifica = filtro(tabela)\n",
    "    if verifica:\n",
    "        (c, rho, pi, rho_r, pi_r) = aplica_filtro(r)\n",
    "    \n",
    "    return (c, rho, pi, rho_r, pi_r)"
   ]
  },
  {
   "cell_type": "code",
   "execution_count": 123,
   "metadata": {},
   "outputs": [],
   "source": [
    "def prepara_dual(c, rho, pi, rho_r, pi_r):\n",
    "    funcao_objetivo = np.concatenate((rho_r, pi_r))\n",
    "    restricao = np.concatenate((rho.T, pi.T), axis=1)\n",
    "    funcao_objetivo = to_list(funcao_objetivo)\n",
    "    funcao_objetivo = np.dot(-1, funcao_objetivo)\n",
    "    \n",
    "    return(funcao_objetivo, restricao, c)"
   ]
  },
  {
   "cell_type": "code",
   "execution_count": 124,
   "metadata": {},
   "outputs": [],
   "source": [
    "c, rho, pi, rho_r, pi_r = aplica_filtro(3)\n",
    "objetivo, restricao, vetor = prepara_dual(c, rho, pi, rho_r, pi_r)"
   ]
  },
  {
   "cell_type": "code",
   "execution_count": 125,
   "metadata": {},
   "outputs": [
    {
     "data": {
      "text/plain": [
       "     fun: -261.0\n",
       " message: 'Optimization terminated successfully.'\n",
       "     nit: 1\n",
       "   slack: array([ 54.65343348, 204.84120172,   0.        ])\n",
       "  status: 0\n",
       " success: True\n",
       "       x: array([0.        , 0.28004292, 0.        , 0.        ])"
      ]
     },
     "execution_count": 125,
     "metadata": {},
     "output_type": "execute_result"
    }
   ],
   "source": [
    "dual = linprog(c=objetivo, A_ub=restricao, b_ub=vetor)\n",
    "dual"
   ]
  },
  {
   "cell_type": "code",
   "execution_count": 126,
   "metadata": {},
   "outputs": [
    {
     "data": {
      "text/plain": [
       "     fun: 261.0\n",
       " message: 'Optimization terminated successfully.'\n",
       "     nit: 3\n",
       "   slack: array([0., 0.])\n",
       "  status: 0\n",
       " success: True\n",
       "       x: array([0., 0., 1.])"
      ]
     },
     "execution_count": 126,
     "metadata": {},
     "output_type": "execute_result"
    }
   ],
   "source": [
    "primal = linprog(c=c, A_ub=rho, b_ub=rho_r, A_eq=pi, b_eq=pi_r)\n",
    "primal"
   ]
  }
 ],
 "metadata": {
  "kernelspec": {
   "display_name": "Python 3",
   "language": "python",
   "name": "python3"
  },
  "language_info": {
   "codemirror_mode": {
    "name": "ipython",
    "version": 3
   },
   "file_extension": ".py",
   "mimetype": "text/x-python",
   "name": "python",
   "nbconvert_exporter": "python",
   "pygments_lexer": "ipython3",
   "version": "3.6.5"
  }
 },
 "nbformat": 4,
 "nbformat_minor": 2
}
