{
 "cells": [
  {
   "cell_type": "code",
   "execution_count": 1,
   "metadata": {},
   "outputs": [],
   "source": [
    "import numpy as np\n",
    "from scipy.optimize import linprog\n",
    "import pandas as pd"
   ]
  },
  {
   "cell_type": "code",
   "execution_count": 2,
   "metadata": {},
   "outputs": [],
   "source": [
    "def data_generator(r, l, e, tam=1000, rho=False):\n",
    "    '''\n",
    "        Entrada:\n",
    "            r, l, e: Numeros Naturais maiores que zero\n",
    "            tam : Valor maximo de cada elemento, padrao: 1000.\n",
    "            rho : Flag para retornar apenas uma matriz l x r\n",
    "        Saida:\n",
    "            vetor: tamanho r, matriz: ordem l x r, matriz: ordem e x r\n",
    "        Erro:\n",
    "            tupla: None, print do erro.\n",
    "    '''\n",
    "    less_than = l <= (r - 1) and e <= (r - 1)\n",
    "    greather_than_zero = l > 0 and e > 0 and r > 0\n",
    "\n",
    "    if not (less_than and greather_than_zero):\n",
    "        print(\"Data Generator Error: Bad Entry.\")\n",
    "        return (None, None, None)\n",
    "    else:\n",
    "        if rho:\n",
    "            matriz_lr = np.random.randint(0, tam + 1, size=(l, r))\n",
    "            return (matriz_lr)\n",
    "        else:\n",
    "            vector = np.random.randint(0, tam + 1, size=r)\n",
    "            matriz_lr = np.random.randint(0, tam + 1, size=(l, r))\n",
    "            matriz_er = np.random.randint(0, tam + 1, size=(e, r))\n",
    "\n",
    "        return (vector, matriz_lr, matriz_er)\n",
    "\n",
    "# ---------------------------------------------------------------------------------------------------\n",
    "\n",
    "def generator_conditional(r, l, e, tam=1000):\n",
    "    \"\"\"\n",
    "        Entradas:\n",
    "            r, l, e: Numeros naturais maiores que zero\n",
    "            tam = tamanho maximo para numero aleatorio\n",
    "            t = variação maxima do gerador do conjunto Q\n",
    "        Saidas:\n",
    "            c: Vetor de tamanho r\n",
    "            rho: Matriz de ordem l x r\n",
    "            pi: Matriz de ordem e x r\n",
    "            rho_r: vetor de tamanho l\n",
    "            pi_r: vetor de tamanho e\n",
    "            Q: Conjunto de tamanho r + 1 tal que U0 = Ur\n",
    "    \"\"\"\n",
    "\n",
    "    c, rho, pi = data_generator(r, l, e, tam=tam)\n",
    "\n",
    "    # Ultima coluna das matrizes Rho e Pi respectivamente\n",
    "    rho_r = rho[:, -1:]\n",
    "    pi_r = pi[:, -1:]\n",
    "\n",
    "    return (c, rho, pi, rho_r, pi_r)"
   ]
  },
  {
   "cell_type": "code",
   "execution_count": 3,
   "metadata": {},
   "outputs": [],
   "source": [
    "def to_list(vet):\n",
    "    lista = []\n",
    "    for x in vet:\n",
    "        lista.append(x[0])\n",
    "\n",
    "    return np.array(lista)"
   ]
  },
  {
   "cell_type": "code",
   "execution_count": 4,
   "metadata": {},
   "outputs": [],
   "source": [
    "def prepara_dual(c, rho, pi, rho_r, pi_r):\n",
    "    funcao_objetivo = np.concatenate((rho_r, pi_r))\n",
    "    restricao = np.concatenate((rho.T, pi.T), axis=1)\n",
    "    funcao_objetivo = to_list(funcao_objetivo)\n",
    "    funcao_objetivo = np.dot(-1, funcao_objetivo)\n",
    "    \n",
    "    return(funcao_objetivo, restricao, c)"
   ]
  },
  {
   "cell_type": "code",
   "execution_count": 55,
   "metadata": {},
   "outputs": [],
   "source": [
    "c, rho, pi, rho_r, pi_r = generator_conditional(4, 3, 3)\n",
    "objetivo, restricao, vetor = prepara_dual(c, rho, pi, rho_r, pi_r)\n",
    "bound = [(None, None),]* rho_r.size + [(0, None), ] * pi_r.size"
   ]
  },
  {
   "cell_type": "code",
   "execution_count": 56,
   "metadata": {},
   "outputs": [],
   "source": [
    "primal = linprog(c=c, A_ub=pi, b_ub=pi_r, A_eq=rho, b_eq=rho_r)\n",
    "dual = linprog(c=objetivo, A_ub=restricao, b_ub=vetor, bounds=bound)"
   ]
  },
  {
   "cell_type": "code",
   "execution_count": 57,
   "metadata": {},
   "outputs": [
    {
     "data": {
      "text/plain": [
       "     fun: 275.0\n",
       " message: 'Optimization terminated successfully.'\n",
       "     nit: 4\n",
       "   slack: array([0., 0., 0.])\n",
       "  status: 0\n",
       " success: True\n",
       "       x: array([0., 0., 0., 1.])"
      ]
     },
     "execution_count": 57,
     "metadata": {},
     "output_type": "execute_result"
    }
   ],
   "source": [
    "primal"
   ]
  },
  {
   "cell_type": "code",
   "execution_count": 58,
   "metadata": {},
   "outputs": [
    {
     "data": {
      "text/plain": [
       "     fun: -275.0\n",
       " message: 'Optimization terminated successfully.'\n",
       "     nit: 1\n",
       "   slack: array([184.32719836, 589.03476483, 767.79141104,   0.        ])\n",
       "  status: 0\n",
       " success: True\n",
       "       x: array([0.        , 0.        , 0.        , 0.        , 0.        ,\n",
       "       0.28118609])"
      ]
     },
     "execution_count": 58,
     "metadata": {},
     "output_type": "execute_result"
    }
   ],
   "source": [
    "dual"
   ]
  },
  {
   "cell_type": "code",
   "execution_count": 39,
   "metadata": {},
   "outputs": [],
   "source": [
    "primal_optimo = np.dot(c, primal.x)\n",
    "dual_optimo = -1 * np.dot(objetivo, dual.x)"
   ]
  },
  {
   "cell_type": "code",
   "execution_count": 40,
   "metadata": {},
   "outputs": [
    {
     "name": "stdout",
     "output_type": "stream",
     "text": [
      "Primal:  945.0\n",
      "Dual:  942.8331734052058\n"
     ]
    }
   ],
   "source": [
    "print(\"Primal: \", primal_optimo)\n",
    "print(\"Dual: \", dual_optimo)"
   ]
  },
  {
   "cell_type": "code",
   "execution_count": 42,
   "metadata": {},
   "outputs": [
    {
     "name": "stdout",
     "output_type": "stream",
     "text": [
      "Dentro da faixa\n"
     ]
    }
   ],
   "source": [
    "if primal_optimo == dual_optimo:\n",
    "    print(\"Igual\")\n",
    "elif primal_optimo <= dual_optimo + 10 or primal_optimo >= dual_optimo - 10:\n",
    "    print(\"Dentro da faixa\")\n",
    "else:\n",
    "    print(\"Diferente\")"
   ]
  },
  {
   "cell_type": "code",
   "execution_count": 62,
   "metadata": {},
   "outputs": [],
   "source": [
    "def dados_tabelar(r, maximo):\n",
    "    n = 1\n",
    "    primais = []\n",
    "    duais = []\n",
    "    status = []\n",
    "    erres = []\n",
    "    it_primal = []\n",
    "    it_dual = []\n",
    "    \n",
    "    while True:\n",
    "        # Prepara os dados\n",
    "        c, rho, pi, rho_r, pi_r = generator_conditional(r, r-1, r-1)\n",
    "        objetivo, restricao, vetor = prepara_dual(c, rho, pi, rho_r, pi_r)\n",
    "        bound = [(None, None),]* rho_r.size + [(0, None), ] * pi_r.size\n",
    "        \n",
    "        # Executa os Simplexes\n",
    "        primal = linprog(c=c, A_ub=pi, b_ub=pi_r, A_eq=rho, b_eq=rho_r)\n",
    "        dual = linprog(c=objetivo, A_ub=restricao, b_ub=vetor, bounds=bound)\n",
    "        \n",
    "        # Calcula o valor optimo\n",
    "        primal_optimo = np.dot(c, primal.x)\n",
    "        dual_optimo = -1 * np.dot(objetivo, dual.x)\n",
    "        \n",
    "            \n",
    "        # Salva os dados\n",
    "        primais.append(primal.fun)\n",
    "        duais.append(-1 * dual.fun)\n",
    "        erres.append(r)\n",
    "        it_primal.append(primal.nit)\n",
    "        it_dual.append(dual.nit)\n",
    "        \n",
    "        # Iteracao\n",
    "        n += 1\n",
    "        \n",
    "        if (n % 20) == 0:\n",
    "            r += 5\n",
    "        if r == maximo:\n",
    "            break\n",
    "    \n",
    "    # Cria data frame com os dados salvos\n",
    "    df = pd.DataFrame()\n",
    "    df[\"R\"]                    = erres\n",
    "    df[\"Optimo Primal\"]        = primais\n",
    "    df[\"Optimo Dual\"]          = duais\n",
    "    df[\"Iteracao Primal\"]      = it_primal\n",
    "    df[\"Iteracao Dual\"]        = it_dual\n",
    "    \n",
    "    return (df)"
   ]
  },
  {
   "cell_type": "code",
   "execution_count": 63,
   "metadata": {},
   "outputs": [],
   "source": [
    "dados = dados_tabelar(5, 30)"
   ]
  },
  {
   "cell_type": "code",
   "execution_count": 64,
   "metadata": {},
   "outputs": [],
   "source": [
    "dados.to_excel(\"teste.xlsx\")"
   ]
  }
 ],
 "metadata": {
  "kernelspec": {
   "display_name": "Python 3",
   "language": "python",
   "name": "python3"
  },
  "language_info": {
   "codemirror_mode": {
    "name": "ipython",
    "version": 3
   },
   "file_extension": ".py",
   "mimetype": "text/x-python",
   "name": "python",
   "nbconvert_exporter": "python",
   "pygments_lexer": "ipython3",
   "version": "3.6.5"
  }
 },
 "nbformat": 4,
 "nbformat_minor": 2
}
