{
 "cells": [
  {
   "cell_type": "code",
   "execution_count": 1,
   "metadata": {},
   "outputs": [],
   "source": [
    "import numpy as np\n",
    "from scipy.optimize import linprog\n",
    "from numpy.linalg import solve"
   ]
  },
  {
   "cell_type": "code",
   "execution_count": 2,
   "metadata": {},
   "outputs": [],
   "source": [
    "#----------------------------------- Funçoes Bases -------------------------------------------------\n",
    "def data_generator(r, l, e, tam=1000, rho=False):\n",
    "    '''\n",
    "        Entrada:\n",
    "            r, l, e: Numeros Naturais maiores que zero\n",
    "            tam : Valor maximo de cada elemento, padrao: 1000.\n",
    "            rho : Flag para retornar apenas uma matriz l x r\n",
    "        Saida:\n",
    "            vetor: tamanho r, matriz: ordem l x r, matriz: ordem e x r\n",
    "        Erro:\n",
    "            tupla: None, print do erro.\n",
    "    '''\n",
    "    less_than = l <= (r-1) and e <= (r-1)\n",
    "    greather_than_zero = l > 0 and e > 0 and r > 0\n",
    "\n",
    "    if not (less_than and greather_than_zero):\n",
    "        print(\"Data Generator Error: Bad Entry.\")\n",
    "        return (None, None, None)\n",
    "    else:\n",
    "        if rho:\n",
    "            matriz_lr = np.random.randint(0, tam+1, size = (l, r))\n",
    "            return (matriz_lr)\n",
    "        else: \n",
    "            vector = np.random.randint(0, tam+1, size = r)\n",
    "            matriz_lr = np.random.randint(0, tam+1, size = (l, r))\n",
    "            matriz_er = np.random.randint(0, tam+1, size = (e, r))\n",
    "\n",
    "        return (vector, matriz_lr, matriz_er)\n",
    "\n",
    "#---------------------------------------------------------------------------------------------------\n",
    "def gaussian(matrix):\n",
    "    '''\n",
    "        Entrada:\n",
    "            matriz: Ordem m x n\n",
    "        Saída:\n",
    "            matriz escalonada: Ordem m x n\n",
    "        Função:\n",
    "            Escalona uma matriz a sua forma triangular superior através do algoritimo do método \n",
    "            da Eliminação Gaussiana.\n",
    "    '''\n",
    "    m, n = np.shape(matrix)\n",
    "    for j in range(m):\n",
    "        for i in range(m):\n",
    "            if i > j:\n",
    "                try:\n",
    "                    c = -(matrix[i][j] / matrix[j][j])\n",
    "                    for k in range(n):\n",
    "                        matrix[i][k] = c * matrix[j][k] + matrix[i][k]\n",
    "                except ZeroDivisionError:\n",
    "                    pass\n",
    "                    \n",
    "    for x in range(m -1):\n",
    "         if all(a == 0 for a in matrix[x]):\n",
    "                matrix[x], matrix[x+1] = matrix[x+1], matrix[x]\n",
    "    return matrix\n",
    "\n",
    "#---------------------------------------------------------------------------------------------------\n",
    "def rank(matrix):\n",
    "    '''\n",
    "        Entrada:\n",
    "            matriz: Ordem m x n\n",
    "        Saída:\n",
    "            posto: Quantidade de linhas não nulas de uma matriz escalonada.\n",
    "    '''\n",
    "    rows = np.shape(matrix)[0]\n",
    "    nulls = 0\n",
    "    for i in range(rows):\n",
    "        if all(a == 0 for a in matrix[i]):\n",
    "            nulls += 1\n",
    "    return (rows - nulls)\n",
    "#----------------------------------- Fim Funçoes Bases ---------------------------------------------\n",
    "#---------------------------------------------------------------------------------------------------\n",
    "\n",
    "\n",
    "#---------------------------------------------------------------------------------------------------\n",
    "#----------------------------------- Função principal ----------------------------------------------\n",
    "def generator_with_gaussian(r, l, e, tam=1000):\n",
    "    '''\n",
    "        Entrada:\n",
    "            r, l, e: Numeros Naturais maiores que zero\n",
    "            tam : Valor maximo de cada elemento, padrao: 1000.\n",
    "        Saida:\n",
    "            vetor: tamanho r, matriz escalonada: ordem l x r, matriz: ordem e x r\n",
    "        Erro:\n",
    "            tupla: None, print do erro.\n",
    "        Função: \n",
    "            gerar dados através da função data_generator(r,l,e), escalonar a matriz através\n",
    "            da função gaussian(matriz), encontrar o posto da matriz escalonada, com a função\n",
    "            rank(matriz_reduzida), e verificar se o posto é valido, em nosso caso, se ele é r-1.\n",
    "    '''\n",
    "    vec, matriz_lr, matriz_er = data_generator(r, l, e, tam=tam)\n",
    "    reduced = gaussian(matriz_lr)\n",
    "    rank_matriz = rank(reduced)\n",
    "    \n",
    "    while rank_matriz != l:\n",
    "        matriz_lr = data_generator(r, l, e, tam=tam, rho=True)\n",
    "        reduced = gaussian(matriz_lr)\n",
    "        rank_matriz = rank(reduced)\n",
    "    \n",
    "    return (vec, reduced, matriz_er)\n",
    "#----------------------------------- Fim Função principal ------------------------------------------\n",
    "#---------------------------------------------------------------------------------------------------\n"
   ]
  },
  {
   "cell_type": "markdown",
   "metadata": {},
   "source": [
    "#### Funções que utilizam simplex"
   ]
  },
  {
   "cell_type": "code",
   "execution_count": 20,
   "metadata": {},
   "outputs": [],
   "source": [
    "def solver_with_ajust(r, l, e):\n",
    "    \n",
    "    c, rho, pi = generator_with_gaussian(r, l, e)\n",
    "    \n",
    "    # Adiciona o complemento no vetor C para equivaler o tamanho das matrizes\n",
    "    c_complement = np.zeros(rho.shape[0] -1, dtype=int)\n",
    "    c_t = np.r_[c, c_complement]\n",
    "\n",
    "    # Adiciona variaveis de folga\n",
    "    rho_eq = np.array(rho[:,:-1])\n",
    "    rho_complement = np.eye(rho_eq.shape[0], dtype=int)\n",
    "    rho_t = np.c_[rho_eq, rho_complement]\n",
    "\n",
    "    # Igualdade\n",
    "    rho_r = rho[:,-1:]\n",
    "\n",
    "    # Adiciona variaveis de folga\n",
    "    pi_eq = np.array(pi[:,:-1])\n",
    "    pi_complement = np.eye(pi_eq.shape[0], dtype=int)\n",
    "    pi_t = np.c_[pi_eq, pi_complement]\n",
    "\n",
    "    # Desigualdade\n",
    "    pi_r = pi[:,-1:]\n",
    "\n",
    "    # Inverte o sinal pois o problema é >= mas a função é <=\n",
    "    pi_r = np.dot(pi_r, -1)\n",
    "    pi_t = np.dot(pi_t, -1)\n",
    "\n",
    "    result = linprog(c_t, A_eq=rho_t, b_eq=rho_r, A_ub=pi_t, b_ub=pi_r)\n",
    "    \n",
    "    return (result.fun, result.x)"
   ]
  },
  {
   "cell_type": "code",
   "execution_count": 4,
   "metadata": {},
   "outputs": [],
   "source": [
    "def solver(r, l, e):\n",
    "    c, rho, pi = generator_with_gaussian(r, l, e)\n",
    "    \n",
    "    # Pega a ultima coluna\n",
    "    rho_r = rho[:,-1:]\n",
    "    pi_r = pi[:,-1:]\n",
    "    \n",
    "    # Inverte o sinal pois é >= e a função é <=\n",
    "    pi = np.dot(pi, -1)\n",
    "    pi_t = np.dot(pi_r, -1)\n",
    "    \n",
    "    # Aplica o simplex\n",
    "    result = linprog(c, A_eq=rho, b_eq=rho_r, A_ub=pi, b_ub=pi_t)\n",
    "    \n",
    "    # Resultado concatenado\n",
    "    final = ((c, rho, pi), (result.fun, result.x))\n",
    "    return final"
   ]
  },
  {
   "cell_type": "code",
   "execution_count": 5,
   "metadata": {},
   "outputs": [],
   "source": [
    "resultados = []\n",
    "for j in range(20):\n",
    "    aplic = solver(3, 2, 2)\n",
    "    resultados.append(aplic)"
   ]
  },
  {
   "cell_type": "code",
   "execution_count": 6,
   "metadata": {},
   "outputs": [
    {
     "data": {
      "text/plain": [
       "20"
      ]
     },
     "execution_count": 6,
     "metadata": {},
     "output_type": "execute_result"
    }
   ],
   "source": [
    "len(resultados)"
   ]
  },
  {
   "cell_type": "code",
   "execution_count": 7,
   "metadata": {
    "scrolled": true
   },
   "outputs": [
    {
     "data": {
      "text/plain": [
       "((array([ 46, 607, 830]), array([[ 170,  321,  662],\n",
       "         [   0,  -96, -919]]), array([[-700, -830, -714],\n",
       "         [-827, -385, -776]])), (830.0, array([0., 0., 1.])))"
      ]
     },
     "execution_count": 7,
     "metadata": {},
     "output_type": "execute_result"
    }
   ],
   "source": [
    "resultados[0]"
   ]
  }
 ],
 "metadata": {
  "kernelspec": {
   "display_name": "Python 3",
   "language": "python",
   "name": "python3"
  },
  "language_info": {
   "codemirror_mode": {
    "name": "ipython",
    "version": 3
   },
   "file_extension": ".py",
   "mimetype": "text/x-python",
   "name": "python",
   "nbconvert_exporter": "python",
   "pygments_lexer": "ipython3",
   "version": "3.6.4"
  }
 },
 "nbformat": 4,
 "nbformat_minor": 2
}
